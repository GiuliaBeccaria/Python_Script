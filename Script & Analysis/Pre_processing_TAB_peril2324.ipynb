{
 "cells": [
  {
   "cell_type": "code",
   "execution_count": 1,
   "id": "45ea4f9b",
   "metadata": {
    "id": "45ea4f9b"
   },
   "outputs": [],
   "source": [
    "import pandas as pd\n",
    "import numpy as np\n",
    "df = pd.read_csv('nba_stats.csv')\n"
   ]
  },
  {
   "cell_type": "code",
   "execution_count": 2,
   "id": "a5d29eaa",
   "metadata": {
    "colab": {
     "base_uri": "https://localhost:8080/",
     "height": 236
    },
    "id": "a5d29eaa",
    "outputId": "f0052dea-6baa-451d-e3e0-7588c11fcdac"
   },
   "outputs": [
    {
     "data": {
      "text/html": [
       "<div>\n",
       "<style scoped>\n",
       "    .dataframe tbody tr th:only-of-type {\n",
       "        vertical-align: middle;\n",
       "    }\n",
       "\n",
       "    .dataframe tbody tr th {\n",
       "        vertical-align: top;\n",
       "    }\n",
       "\n",
       "    .dataframe thead th {\n",
       "        text-align: right;\n",
       "    }\n",
       "</style>\n",
       "<table border=\"1\" class=\"dataframe\">\n",
       "  <thead>\n",
       "    <tr style=\"text-align: right;\">\n",
       "      <th></th>\n",
       "      <th>Anno</th>\n",
       "      <th>Position</th>\n",
       "      <th>id</th>\n",
       "      <th>TEAM</th>\n",
       "      <th>GP</th>\n",
       "      <th>W</th>\n",
       "      <th>L</th>\n",
       "      <th>WIN%</th>\n",
       "      <th>MIN</th>\n",
       "      <th>PTS</th>\n",
       "      <th>...</th>\n",
       "      <th>DREB</th>\n",
       "      <th>REB</th>\n",
       "      <th>AST</th>\n",
       "      <th>TOV</th>\n",
       "      <th>STL</th>\n",
       "      <th>BLK</th>\n",
       "      <th>BLKA</th>\n",
       "      <th>PF</th>\n",
       "      <th>PFD</th>\n",
       "      <th>+/-</th>\n",
       "    </tr>\n",
       "  </thead>\n",
       "  <tbody>\n",
       "    <tr>\n",
       "      <th>0</th>\n",
       "      <td>2023-24</td>\n",
       "      <td>NaN</td>\n",
       "      <td>1</td>\n",
       "      <td>Boston Celtics</td>\n",
       "      <td>4</td>\n",
       "      <td>4</td>\n",
       "      <td>0</td>\n",
       "      <td>1.0</td>\n",
       "      <td>48.0</td>\n",
       "      <td>127.0</td>\n",
       "      <td>...</td>\n",
       "      <td>40.0</td>\n",
       "      <td>52.3</td>\n",
       "      <td>24.0</td>\n",
       "      <td>14.8</td>\n",
       "      <td>7.3</td>\n",
       "      <td>6.3</td>\n",
       "      <td>4.0</td>\n",
       "      <td>20.3</td>\n",
       "      <td>17.8</td>\n",
       "      <td>20.5</td>\n",
       "    </tr>\n",
       "    <tr>\n",
       "      <th>1</th>\n",
       "      <td>2023-24</td>\n",
       "      <td>NaN</td>\n",
       "      <td>1</td>\n",
       "      <td>Dallas Mavericks</td>\n",
       "      <td>4</td>\n",
       "      <td>4</td>\n",
       "      <td>0</td>\n",
       "      <td>1.0</td>\n",
       "      <td>48.0</td>\n",
       "      <td>122.5</td>\n",
       "      <td>...</td>\n",
       "      <td>35.3</td>\n",
       "      <td>45.3</td>\n",
       "      <td>22.8</td>\n",
       "      <td>12.8</td>\n",
       "      <td>5.5</td>\n",
       "      <td>3.5</td>\n",
       "      <td>4.0</td>\n",
       "      <td>15.8</td>\n",
       "      <td>24.0</td>\n",
       "      <td>9.0</td>\n",
       "    </tr>\n",
       "    <tr>\n",
       "      <th>2</th>\n",
       "      <td>2023-24</td>\n",
       "      <td>NaN</td>\n",
       "      <td>3</td>\n",
       "      <td>Denver Nuggets</td>\n",
       "      <td>5</td>\n",
       "      <td>4</td>\n",
       "      <td>1</td>\n",
       "      <td>0.8</td>\n",
       "      <td>48.0</td>\n",
       "      <td>110.8</td>\n",
       "      <td>...</td>\n",
       "      <td>34.2</td>\n",
       "      <td>43.0</td>\n",
       "      <td>29.0</td>\n",
       "      <td>14.6</td>\n",
       "      <td>7.6</td>\n",
       "      <td>7.6</td>\n",
       "      <td>4.4</td>\n",
       "      <td>18.0</td>\n",
       "      <td>18.2</td>\n",
       "      <td>7.2</td>\n",
       "    </tr>\n",
       "    <tr>\n",
       "      <th>3</th>\n",
       "      <td>2023-24</td>\n",
       "      <td>NaN</td>\n",
       "      <td>3</td>\n",
       "      <td>Golden State Warriors</td>\n",
       "      <td>5</td>\n",
       "      <td>4</td>\n",
       "      <td>1</td>\n",
       "      <td>0.8</td>\n",
       "      <td>48.0</td>\n",
       "      <td>112.8</td>\n",
       "      <td>...</td>\n",
       "      <td>35.2</td>\n",
       "      <td>47.4</td>\n",
       "      <td>27.6</td>\n",
       "      <td>15.4</td>\n",
       "      <td>8.4</td>\n",
       "      <td>5.6</td>\n",
       "      <td>4.2</td>\n",
       "      <td>20.6</td>\n",
       "      <td>18.6</td>\n",
       "      <td>8.8</td>\n",
       "    </tr>\n",
       "    <tr>\n",
       "      <th>4</th>\n",
       "      <td>2023-24</td>\n",
       "      <td>NaN</td>\n",
       "      <td>3</td>\n",
       "      <td>New Orleans Pelicans</td>\n",
       "      <td>5</td>\n",
       "      <td>4</td>\n",
       "      <td>1</td>\n",
       "      <td>0.8</td>\n",
       "      <td>48.0</td>\n",
       "      <td>108.8</td>\n",
       "      <td>...</td>\n",
       "      <td>34.0</td>\n",
       "      <td>45.6</td>\n",
       "      <td>23.0</td>\n",
       "      <td>13.6</td>\n",
       "      <td>7.4</td>\n",
       "      <td>5.0</td>\n",
       "      <td>5.4</td>\n",
       "      <td>19.8</td>\n",
       "      <td>22.4</td>\n",
       "      <td>0.2</td>\n",
       "    </tr>\n",
       "  </tbody>\n",
       "</table>\n",
       "<p>5 rows × 30 columns</p>\n",
       "</div>"
      ],
      "text/plain": [
       "      Anno Position  id                   TEAM  GP  W  L  WIN%   MIN    PTS  \\\n",
       "0  2023-24      NaN   1         Boston Celtics   4  4  0   1.0  48.0  127.0   \n",
       "1  2023-24      NaN   1       Dallas Mavericks   4  4  0   1.0  48.0  122.5   \n",
       "2  2023-24      NaN   3         Denver Nuggets   5  4  1   0.8  48.0  110.8   \n",
       "3  2023-24      NaN   3  Golden State Warriors   5  4  1   0.8  48.0  112.8   \n",
       "4  2023-24      NaN   3   New Orleans Pelicans   5  4  1   0.8  48.0  108.8   \n",
       "\n",
       "   ...  DREB   REB   AST   TOV  STL  BLK  BLKA    PF   PFD   +/-  \n",
       "0  ...  40.0  52.3  24.0  14.8  7.3  6.3   4.0  20.3  17.8  20.5  \n",
       "1  ...  35.3  45.3  22.8  12.8  5.5  3.5   4.0  15.8  24.0   9.0  \n",
       "2  ...  34.2  43.0  29.0  14.6  7.6  7.6   4.4  18.0  18.2   7.2  \n",
       "3  ...  35.2  47.4  27.6  15.4  8.4  5.6   4.2  20.6  18.6   8.8  \n",
       "4  ...  34.0  45.6  23.0  13.6  7.4  5.0   5.4  19.8  22.4   0.2  \n",
       "\n",
       "[5 rows x 30 columns]"
      ]
     },
     "execution_count": 2,
     "metadata": {},
     "output_type": "execute_result"
    }
   ],
   "source": [
    "df.head()"
   ]
  },
  {
   "cell_type": "code",
   "execution_count": 3,
   "id": "45a5ca3a",
   "metadata": {
    "colab": {
     "base_uri": "https://localhost:8080/"
    },
    "id": "45a5ca3a",
    "outputId": "af891142-993e-4801-95ed-c32ce4644c34"
   },
   "outputs": [
    {
     "data": {
      "text/plain": [
       "array([nan, 'F', 'C', 'G'], dtype=object)"
      ]
     },
     "execution_count": 3,
     "metadata": {},
     "output_type": "execute_result"
    }
   ],
   "source": [
    "df['Position'].unique()"
   ]
  },
  {
   "cell_type": "markdown",
   "id": "863c082f",
   "metadata": {
    "id": "863c082f"
   },
   "source": [
    "Sostituiamo ai NaN nella colonna 'Position' il valore 'All' dato che Nan corrisponde ai valori estratti dal sito che i riferiscono ai dati per tutte\n",
    "le posizioni."
   ]
  },
  {
   "cell_type": "code",
   "execution_count": 4,
   "id": "d2e894dd",
   "metadata": {
    "colab": {
     "base_uri": "https://localhost:8080/"
    },
    "id": "d2e894dd",
    "outputId": "ee1e8dfe-b680-4e2b-bfb0-12f8a65fede7"
   },
   "outputs": [
    {
     "data": {
      "text/plain": [
       "array(['All', 'F', 'C', 'G'], dtype=object)"
      ]
     },
     "execution_count": 4,
     "metadata": {},
     "output_type": "execute_result"
    }
   ],
   "source": [
    "# Sostituisci 'nan' con 'All' nella colonna 'Position'\n",
    "df['Position'] = df['Position'].fillna('All')\n",
    "df['Position'].unique()"
   ]
  },
  {
   "cell_type": "markdown",
   "id": "07c8880a",
   "metadata": {
    "id": "07c8880a"
   },
   "source": [
    "### controlliamo gli NA e notiamo che non vi sono piu valori mancanti"
   ]
  },
  {
   "cell_type": "code",
   "execution_count": 5,
   "id": "7d4399cf",
   "metadata": {
    "colab": {
     "base_uri": "https://localhost:8080/"
    },
    "id": "7d4399cf",
    "outputId": "c1f88a37-231d-4d84-9957-00c03470ff89"
   },
   "outputs": [
    {
     "data": {
      "text/plain": [
       "Anno        0\n",
       "Position    0\n",
       "id          0\n",
       "TEAM        0\n",
       "GP          0\n",
       "W           0\n",
       "L           0\n",
       "WIN%        0\n",
       "MIN         0\n",
       "PTS         0\n",
       "FGM         0\n",
       "FGA         0\n",
       "FG%         0\n",
       "3PM         0\n",
       "3PA         0\n",
       "3P%         0\n",
       "FTM         0\n",
       "FTA         0\n",
       "FT%         0\n",
       "OREB        0\n",
       "DREB        0\n",
       "REB         0\n",
       "AST         0\n",
       "TOV         0\n",
       "STL         0\n",
       "BLK         0\n",
       "BLKA        0\n",
       "PF          0\n",
       "PFD         0\n",
       "+/-         0\n",
       "dtype: int64"
      ]
     },
     "execution_count": 5,
     "metadata": {},
     "output_type": "execute_result"
    }
   ],
   "source": [
    "df[df.isna()].count()"
   ]
  },
  {
   "cell_type": "markdown",
   "id": "80fb4f92",
   "metadata": {
    "id": "80fb4f92"
   },
   "source": [
    "## Features and rows selection"
   ]
  },
  {
   "cell_type": "markdown",
   "id": "59193308",
   "metadata": {
    "id": "59193308"
   },
   "source": [
    "Togliamo i valori dell'anno \"2023-24\" perchè i valori di questa stagione sono troppo pochi. ROWS SELECTION (IO LO UNIREI CON FEATURES SELECTION)"
   ]
  },
  {
   "cell_type": "code",
   "execution_count": 6,
   "id": "cadee028",
   "metadata": {
    "colab": {
     "base_uri": "https://localhost:8080/",
     "height": 236
    },
    "id": "cadee028",
    "outputId": "f26d0408-b44f-48a6-e512-69ad95894cd7"
   },
   "outputs": [
    {
     "data": {
      "text/html": [
       "<div>\n",
       "<style scoped>\n",
       "    .dataframe tbody tr th:only-of-type {\n",
       "        vertical-align: middle;\n",
       "    }\n",
       "\n",
       "    .dataframe tbody tr th {\n",
       "        vertical-align: top;\n",
       "    }\n",
       "\n",
       "    .dataframe thead th {\n",
       "        text-align: right;\n",
       "    }\n",
       "</style>\n",
       "<table border=\"1\" class=\"dataframe\">\n",
       "  <thead>\n",
       "    <tr style=\"text-align: right;\">\n",
       "      <th></th>\n",
       "      <th>Anno</th>\n",
       "      <th>Position</th>\n",
       "      <th>id</th>\n",
       "      <th>TEAM</th>\n",
       "      <th>GP</th>\n",
       "      <th>W</th>\n",
       "      <th>L</th>\n",
       "      <th>WIN%</th>\n",
       "      <th>MIN</th>\n",
       "      <th>PTS</th>\n",
       "      <th>...</th>\n",
       "      <th>DREB</th>\n",
       "      <th>REB</th>\n",
       "      <th>AST</th>\n",
       "      <th>TOV</th>\n",
       "      <th>STL</th>\n",
       "      <th>BLK</th>\n",
       "      <th>BLKA</th>\n",
       "      <th>PF</th>\n",
       "      <th>PFD</th>\n",
       "      <th>+/-</th>\n",
       "    </tr>\n",
       "  </thead>\n",
       "  <tbody>\n",
       "    <tr>\n",
       "      <th>0</th>\n",
       "      <td>2023-24</td>\n",
       "      <td>All</td>\n",
       "      <td>1</td>\n",
       "      <td>Boston Celtics</td>\n",
       "      <td>4</td>\n",
       "      <td>4</td>\n",
       "      <td>0</td>\n",
       "      <td>1.0</td>\n",
       "      <td>48.0</td>\n",
       "      <td>127.0</td>\n",
       "      <td>...</td>\n",
       "      <td>40.0</td>\n",
       "      <td>52.3</td>\n",
       "      <td>24.0</td>\n",
       "      <td>14.8</td>\n",
       "      <td>7.3</td>\n",
       "      <td>6.3</td>\n",
       "      <td>4.0</td>\n",
       "      <td>20.3</td>\n",
       "      <td>17.8</td>\n",
       "      <td>20.5</td>\n",
       "    </tr>\n",
       "    <tr>\n",
       "      <th>1</th>\n",
       "      <td>2023-24</td>\n",
       "      <td>All</td>\n",
       "      <td>1</td>\n",
       "      <td>Dallas Mavericks</td>\n",
       "      <td>4</td>\n",
       "      <td>4</td>\n",
       "      <td>0</td>\n",
       "      <td>1.0</td>\n",
       "      <td>48.0</td>\n",
       "      <td>122.5</td>\n",
       "      <td>...</td>\n",
       "      <td>35.3</td>\n",
       "      <td>45.3</td>\n",
       "      <td>22.8</td>\n",
       "      <td>12.8</td>\n",
       "      <td>5.5</td>\n",
       "      <td>3.5</td>\n",
       "      <td>4.0</td>\n",
       "      <td>15.8</td>\n",
       "      <td>24.0</td>\n",
       "      <td>9.0</td>\n",
       "    </tr>\n",
       "    <tr>\n",
       "      <th>2</th>\n",
       "      <td>2023-24</td>\n",
       "      <td>All</td>\n",
       "      <td>3</td>\n",
       "      <td>Denver Nuggets</td>\n",
       "      <td>5</td>\n",
       "      <td>4</td>\n",
       "      <td>1</td>\n",
       "      <td>0.8</td>\n",
       "      <td>48.0</td>\n",
       "      <td>110.8</td>\n",
       "      <td>...</td>\n",
       "      <td>34.2</td>\n",
       "      <td>43.0</td>\n",
       "      <td>29.0</td>\n",
       "      <td>14.6</td>\n",
       "      <td>7.6</td>\n",
       "      <td>7.6</td>\n",
       "      <td>4.4</td>\n",
       "      <td>18.0</td>\n",
       "      <td>18.2</td>\n",
       "      <td>7.2</td>\n",
       "    </tr>\n",
       "    <tr>\n",
       "      <th>3</th>\n",
       "      <td>2023-24</td>\n",
       "      <td>All</td>\n",
       "      <td>3</td>\n",
       "      <td>Golden State Warriors</td>\n",
       "      <td>5</td>\n",
       "      <td>4</td>\n",
       "      <td>1</td>\n",
       "      <td>0.8</td>\n",
       "      <td>48.0</td>\n",
       "      <td>112.8</td>\n",
       "      <td>...</td>\n",
       "      <td>35.2</td>\n",
       "      <td>47.4</td>\n",
       "      <td>27.6</td>\n",
       "      <td>15.4</td>\n",
       "      <td>8.4</td>\n",
       "      <td>5.6</td>\n",
       "      <td>4.2</td>\n",
       "      <td>20.6</td>\n",
       "      <td>18.6</td>\n",
       "      <td>8.8</td>\n",
       "    </tr>\n",
       "    <tr>\n",
       "      <th>4</th>\n",
       "      <td>2023-24</td>\n",
       "      <td>All</td>\n",
       "      <td>3</td>\n",
       "      <td>New Orleans Pelicans</td>\n",
       "      <td>5</td>\n",
       "      <td>4</td>\n",
       "      <td>1</td>\n",
       "      <td>0.8</td>\n",
       "      <td>48.0</td>\n",
       "      <td>108.8</td>\n",
       "      <td>...</td>\n",
       "      <td>34.0</td>\n",
       "      <td>45.6</td>\n",
       "      <td>23.0</td>\n",
       "      <td>13.6</td>\n",
       "      <td>7.4</td>\n",
       "      <td>5.0</td>\n",
       "      <td>5.4</td>\n",
       "      <td>19.8</td>\n",
       "      <td>22.4</td>\n",
       "      <td>0.2</td>\n",
       "    </tr>\n",
       "  </tbody>\n",
       "</table>\n",
       "<p>5 rows × 30 columns</p>\n",
       "</div>"
      ],
      "text/plain": [
       "      Anno Position  id                   TEAM  GP  W  L  WIN%   MIN    PTS  \\\n",
       "0  2023-24      All   1         Boston Celtics   4  4  0   1.0  48.0  127.0   \n",
       "1  2023-24      All   1       Dallas Mavericks   4  4  0   1.0  48.0  122.5   \n",
       "2  2023-24      All   3         Denver Nuggets   5  4  1   0.8  48.0  110.8   \n",
       "3  2023-24      All   3  Golden State Warriors   5  4  1   0.8  48.0  112.8   \n",
       "4  2023-24      All   3   New Orleans Pelicans   5  4  1   0.8  48.0  108.8   \n",
       "\n",
       "   ...  DREB   REB   AST   TOV  STL  BLK  BLKA    PF   PFD   +/-  \n",
       "0  ...  40.0  52.3  24.0  14.8  7.3  6.3   4.0  20.3  17.8  20.5  \n",
       "1  ...  35.3  45.3  22.8  12.8  5.5  3.5   4.0  15.8  24.0   9.0  \n",
       "2  ...  34.2  43.0  29.0  14.6  7.6  7.6   4.4  18.0  18.2   7.2  \n",
       "3  ...  35.2  47.4  27.6  15.4  8.4  5.6   4.2  20.6  18.6   8.8  \n",
       "4  ...  34.0  45.6  23.0  13.6  7.4  5.0   5.4  19.8  22.4   0.2  \n",
       "\n",
       "[5 rows x 30 columns]"
      ]
     },
     "execution_count": 6,
     "metadata": {},
     "output_type": "execute_result"
    }
   ],
   "source": [
    "df_clean = df[df['Anno'] == '2023-24']\n",
    "df_clean.head()"
   ]
  },
  {
   "cell_type": "code",
   "execution_count": 7,
   "id": "4d6c9314",
   "metadata": {
    "colab": {
     "base_uri": "https://localhost:8080/"
    },
    "id": "4d6c9314",
    "outputId": "d17e5de8-15e0-481b-dc5e-c06d3d9c7c93"
   },
   "outputs": [
    {
     "data": {
      "text/plain": [
       "Index(['Anno', 'Position', 'id', 'TEAM', 'GP', 'W', 'L', 'WIN%', 'MIN', 'PTS',\n",
       "       'FGM', 'FGA', 'FG%', '3PM', '3PA', '3P%', 'FTM', 'FTA', 'FT%', 'OREB',\n",
       "       'DREB', 'REB', 'AST', 'TOV', 'STL', 'BLK', 'BLKA', 'PF', 'PFD', '+/-'],\n",
       "      dtype='object')"
      ]
     },
     "execution_count": 7,
     "metadata": {},
     "output_type": "execute_result"
    }
   ],
   "source": [
    "df_clean.keys()"
   ]
  },
  {
   "cell_type": "markdown",
   "id": "790bab3b",
   "metadata": {
    "id": "790bab3b"
   },
   "source": [
    "feature seletion between:\n",
    "'ANNO': Anno di riferimento delle statistiche.\n",
    "\n",
    "'POSITION': Posizione o ruolo del giocatore nella squadra.\n",
    "\n",
    "'ID': Identificativo unico o codice del giocatore.\n",
    "\n",
    "TEAM: Rappresenta la sigla o il nome abbreviato della squadra NBA a cui si riferiscono le statistiche.\n",
    "\n",
    "GP (Games Played): Indica il numero di partite giocate dalla squadra fino a quel momento nella stagione.\n",
    "\n",
    "W (Wins): Rappresenta il numero di partite vinte dalla squadra.\n",
    "\n",
    "L (Losses): Indica il numero di partite perse dalla squadra.\n",
    "\n",
    "WIN% (Winning Percentage): Questa variabile rappresenta la percentuale di vittorie della squadra, calcolata come il rapporto tra le partite vinte (W) e il totale delle partite giocate (GP). È un indicatore del successo complessivo della squadra.\n",
    "\n",
    "MIN (Minutes): Questo valore indica il numero totale di minuti giocati dalla squadra nella stagione.\n",
    "\n",
    "PTS (Points): Rappresenta il totale dei punti segnati dalla squadra durante la stagione.\n",
    "\n",
    "FGM (Field Goals Made): Indica il totale dei canestri segnati dalla squadra.\n",
    "\n",
    "FGA (Field Goals Attempted): Rappresenta il totale dei tentativi di canestro effettuati dalla squadra.\n",
    "\n",
    "FG% (Field Goal Percentage): Questa variabile rappresenta la percentuale di successo nei tiri dal campo, calcolata come il rapporto tra i canestri segnati (FGM) e i tentativi effettuati (FGA).\n",
    "\n",
    "3PM (Three-Point Field Goals Made): Indica il totale dei tiri da tre punti segnati dalla squadra.\n",
    "\n",
    "3PA (Three-Point Field Goals Attempted): Rappresenta il totale dei tentativi di tiri da tre punti effettuati dalla squadra.\n",
    "\n",
    "3P% (Three-Point Percentage): Questa variabile rappresenta la percentuale di successo nei tiri da tre punti, calcolata come il rapporto tra i tiri da tre punti segnati (3PM) e i tentativi effettuati (3PA).\n",
    "\n",
    "FTM (Free Throws Made): Indica il totale dei tiri liberi segnati dalla squadra.\n",
    "\n",
    "FTA (Free Throws Attempted): Rappresenta il totale dei tentativi di tiri liberi effettuati dalla squadra.\n",
    "\n",
    "FT% (Free Throw Percentage): Questa variabile rappresenta la percentuale di successo nei tiri liberi, calcolata come il rapporto tra i tiri liberi segnati (FTM) e i tentativi effettuati (FTA).\n",
    "\n",
    "OREB (Offensive Rebounds): Indica il totale dei rimbalzi offensivi catturati dalla squadra.\n",
    "\n",
    "DREB (Defensive Rebounds): Rappresenta il totale dei rimbalzi difensivi catturati dalla squadra.\n",
    "\n",
    "REB (Total Rebounds): Questo valore rappresenta il totale dei rimbalzi totali catturati dalla squadra, che è la somma di rimbalzi offensivi (OREB) e rimbalzi difensivi (DREB).\n",
    "\n",
    "AST (Assists): Indica il totale degli assist effettuati dalla squadra, ovvero i passaggi che portano a un canestro.\n",
    "\n",
    "TOV (Turnovers): Rappresenta il totale dei palloni persi dalla squadra, ad esempio a causa di errori di gestione della palla o passaggi sbagliati.\n",
    "\n",
    "STL (Steals): Indica il totale degli \"stacchi\" effettuati dalla squadra, ovvero il numero di volte in cui i giocatori hanno rubato la palla agli avversari.\n",
    "\n",
    "BLK (Blocks): Rappresenta il totale dei blocchi effettuati dalla squadra, ovvero il numero di volte in cui i giocatori hanno impedito ai tiri avversari di raggiungere il canestro.\n",
    "\n",
    "BLKA (Blocks Against): Indica il totale dei tentativi di tiri bloccati dagli avversari contro la squadra.\n",
    "\n",
    "PF (Personal Fouls): Rappresenta il totale delle falli personali commessi dalla squadra.\n",
    "\n",
    "PFD (Personal Fouls Drawn): Indica il totale dei falli personali subiti dalla squadra.\n",
    "\n",
    "+/- (Plus-Minus): Questo valore rappresenta la differenza tra i punti segnati dalla squadra quando un giocatore è in campo e i punti subiti dalla squadra quando lo stesso giocatore è in campo. È un indicatore del contributo di un giocatore al successo della squadra durante la partita."
   ]
  },
  {
   "cell_type": "markdown",
   "id": "489db410",
   "metadata": {
    "id": "489db410"
   },
   "source": [
    "per le nostre analisi specifiche riguardo il tiro da tre terremo nel df esclusivamnete le segeunti feature: ANNO, id, position, TEAM, WIN%, 3PM, 3PA, 3P%.\n",
    "Ma manterremo comunque un df con all'interno tutte le variabili da  utilizzare per fare prediction."
   ]
  },
  {
   "cell_type": "markdown",
   "id": "L9SWzG6pjYv6",
   "metadata": {
    "id": "L9SWzG6pjYv6"
   },
   "source": [
    "A noi interessano le variabili che influiscono di più sulla vittoria, facciamo la correlazione e prendiamo quelli coi valori negativi e positivi più alti."
   ]
  },
  {
   "cell_type": "code",
   "execution_count": 8,
   "id": "wAQc1piNjYYf",
   "metadata": {
    "colab": {
     "base_uri": "https://localhost:8080/"
    },
    "id": "wAQc1piNjYYf",
    "outputId": "4663f0a8-d03b-425d-d01f-e03307b14634"
   },
   "outputs": [
    {
     "data": {
      "text/plain": [
       "id     -0.955754\n",
       "GP     -0.220861\n",
       "W       0.955823\n",
       "L      -0.949885\n",
       "WIN%    1.000000\n",
       "MIN    -0.058426\n",
       "PTS     0.543751\n",
       "FGM     0.463954\n",
       "FGA    -0.111585\n",
       "FG%     0.555900\n",
       "3PM     0.358749\n",
       "3PA     0.155005\n",
       "3P%     0.359777\n",
       "FTM     0.134225\n",
       "FTA     0.139467\n",
       "FT%    -0.034042\n",
       "OREB   -0.138955\n",
       "DREB    0.453180\n",
       "REB     0.272188\n",
       "AST    -0.006629\n",
       "TOV    -0.241315\n",
       "STL    -0.173909\n",
       "BLK     0.199958\n",
       "BLKA   -0.471916\n",
       "PF     -0.223077\n",
       "PFD     0.184583\n",
       "+/-     0.800384\n",
       "Name: WIN%, dtype: float64"
      ]
     },
     "execution_count": 8,
     "metadata": {},
     "output_type": "execute_result"
    }
   ],
   "source": [
    "df_All=df_clean[df_clean['Position']==\"All\"]\n",
    "df_All.corr()[\"WIN%\"]"
   ]
  },
  {
   "cell_type": "code",
   "execution_count": 9,
   "id": "d9FlUYkrkXqi",
   "metadata": {
    "colab": {
     "base_uri": "https://localhost:8080/"
    },
    "id": "d9FlUYkrkXqi",
    "outputId": "753dfe87-649b-45f8-b14b-f328998813d8"
   },
   "outputs": [
    {
     "data": {
      "text/plain": [
       "WIN%    1.000000\n",
       "W       0.955823\n",
       "+/-     0.800384\n",
       "FG%     0.555900\n",
       "PTS     0.543751\n",
       "FGM     0.463954\n",
       "Name: WIN%, dtype: float64"
      ]
     },
     "execution_count": 9,
     "metadata": {},
     "output_type": "execute_result"
    }
   ],
   "source": [
    "df_All.corr()[\"WIN%\"].nlargest(6)"
   ]
  },
  {
   "cell_type": "code",
   "execution_count": 10,
   "id": "GZ9r8Sw2lLNb",
   "metadata": {
    "colab": {
     "base_uri": "https://localhost:8080/"
    },
    "id": "GZ9r8Sw2lLNb",
    "outputId": "305c5996-7959-48ed-99a6-81548cb97e20"
   },
   "outputs": [
    {
     "data": {
      "text/plain": [
       "id     -0.955754\n",
       "L      -0.949885\n",
       "BLKA   -0.471916\n",
       "TOV    -0.241315\n",
       "Name: WIN%, dtype: float64"
      ]
     },
     "execution_count": 10,
     "metadata": {},
     "output_type": "execute_result"
    }
   ],
   "source": [
    "df_All.corr()[\"WIN%\"].nsmallest(4)"
   ]
  },
  {
   "cell_type": "markdown",
   "id": "6n21MpNnlXwu",
   "metadata": {
    "id": "6n21MpNnlXwu"
   },
   "source": [
    "Escludiamo i valori di W, WIN%, plus/minus, L e id perchè è scontata la correlazione tra le vittorie e queste. Mentre teniamo le altre, curioso che FG e 3P siano le più alte: andiamo a osservare questi valori nel dettaglio.\n",
    "Tenendo anche le altre variabili legate quind FGA, FGM, 3PA and 3PM."
   ]
  },
  {
   "cell_type": "code",
   "execution_count": 11,
   "id": "s5BfYaborRC8",
   "metadata": {
    "colab": {
     "base_uri": "https://localhost:8080/",
     "height": 206
    },
    "id": "s5BfYaborRC8",
    "outputId": "b208f9b2-b114-40c1-9a94-670bb11631ed"
   },
   "outputs": [
    {
     "data": {
      "text/html": [
       "<div>\n",
       "<style scoped>\n",
       "    .dataframe tbody tr th:only-of-type {\n",
       "        vertical-align: middle;\n",
       "    }\n",
       "\n",
       "    .dataframe tbody tr th {\n",
       "        vertical-align: top;\n",
       "    }\n",
       "\n",
       "    .dataframe thead th {\n",
       "        text-align: right;\n",
       "    }\n",
       "</style>\n",
       "<table border=\"1\" class=\"dataframe\">\n",
       "  <thead>\n",
       "    <tr style=\"text-align: right;\">\n",
       "      <th></th>\n",
       "      <th>Anno</th>\n",
       "      <th>Position</th>\n",
       "      <th>id</th>\n",
       "      <th>TEAM</th>\n",
       "      <th>WIN%</th>\n",
       "      <th>3PM</th>\n",
       "      <th>3PA</th>\n",
       "      <th>3P%</th>\n",
       "      <th>FGM</th>\n",
       "      <th>FGA</th>\n",
       "      <th>FG%</th>\n",
       "      <th>AST</th>\n",
       "      <th>BLKA</th>\n",
       "      <th>TOV</th>\n",
       "    </tr>\n",
       "  </thead>\n",
       "  <tbody>\n",
       "    <tr>\n",
       "      <th>0</th>\n",
       "      <td>2023-24</td>\n",
       "      <td>All</td>\n",
       "      <td>1</td>\n",
       "      <td>Boston Celtics</td>\n",
       "      <td>1.0</td>\n",
       "      <td>16.8</td>\n",
       "      <td>41.5</td>\n",
       "      <td>40.4</td>\n",
       "      <td>46.8</td>\n",
       "      <td>92.3</td>\n",
       "      <td>50.7</td>\n",
       "      <td>24.0</td>\n",
       "      <td>4.0</td>\n",
       "      <td>14.8</td>\n",
       "    </tr>\n",
       "    <tr>\n",
       "      <th>1</th>\n",
       "      <td>2023-24</td>\n",
       "      <td>All</td>\n",
       "      <td>1</td>\n",
       "      <td>Dallas Mavericks</td>\n",
       "      <td>1.0</td>\n",
       "      <td>18.3</td>\n",
       "      <td>44.5</td>\n",
       "      <td>41.0</td>\n",
       "      <td>42.5</td>\n",
       "      <td>88.8</td>\n",
       "      <td>47.9</td>\n",
       "      <td>22.8</td>\n",
       "      <td>4.0</td>\n",
       "      <td>12.8</td>\n",
       "    </tr>\n",
       "    <tr>\n",
       "      <th>2</th>\n",
       "      <td>2023-24</td>\n",
       "      <td>All</td>\n",
       "      <td>3</td>\n",
       "      <td>Denver Nuggets</td>\n",
       "      <td>0.8</td>\n",
       "      <td>10.8</td>\n",
       "      <td>31.8</td>\n",
       "      <td>34.0</td>\n",
       "      <td>45.4</td>\n",
       "      <td>89.4</td>\n",
       "      <td>50.8</td>\n",
       "      <td>29.0</td>\n",
       "      <td>4.4</td>\n",
       "      <td>14.6</td>\n",
       "    </tr>\n",
       "    <tr>\n",
       "      <th>3</th>\n",
       "      <td>2023-24</td>\n",
       "      <td>All</td>\n",
       "      <td>3</td>\n",
       "      <td>Golden State Warriors</td>\n",
       "      <td>0.8</td>\n",
       "      <td>13.6</td>\n",
       "      <td>38.4</td>\n",
       "      <td>35.4</td>\n",
       "      <td>41.8</td>\n",
       "      <td>89.6</td>\n",
       "      <td>46.7</td>\n",
       "      <td>27.6</td>\n",
       "      <td>4.2</td>\n",
       "      <td>15.4</td>\n",
       "    </tr>\n",
       "    <tr>\n",
       "      <th>4</th>\n",
       "      <td>2023-24</td>\n",
       "      <td>All</td>\n",
       "      <td>3</td>\n",
       "      <td>New Orleans Pelicans</td>\n",
       "      <td>0.8</td>\n",
       "      <td>12.0</td>\n",
       "      <td>35.6</td>\n",
       "      <td>33.7</td>\n",
       "      <td>39.4</td>\n",
       "      <td>89.4</td>\n",
       "      <td>44.1</td>\n",
       "      <td>23.0</td>\n",
       "      <td>5.4</td>\n",
       "      <td>13.6</td>\n",
       "    </tr>\n",
       "  </tbody>\n",
       "</table>\n",
       "</div>"
      ],
      "text/plain": [
       "      Anno Position  id                   TEAM  WIN%   3PM   3PA   3P%   FGM  \\\n",
       "0  2023-24      All   1         Boston Celtics   1.0  16.8  41.5  40.4  46.8   \n",
       "1  2023-24      All   1       Dallas Mavericks   1.0  18.3  44.5  41.0  42.5   \n",
       "2  2023-24      All   3         Denver Nuggets   0.8  10.8  31.8  34.0  45.4   \n",
       "3  2023-24      All   3  Golden State Warriors   0.8  13.6  38.4  35.4  41.8   \n",
       "4  2023-24      All   3   New Orleans Pelicans   0.8  12.0  35.6  33.7  39.4   \n",
       "\n",
       "    FGA   FG%   AST  BLKA   TOV  \n",
       "0  92.3  50.7  24.0   4.0  14.8  \n",
       "1  88.8  47.9  22.8   4.0  12.8  \n",
       "2  89.4  50.8  29.0   4.4  14.6  \n",
       "3  89.6  46.7  27.6   4.2  15.4  \n",
       "4  89.4  44.1  23.0   5.4  13.6  "
      ]
     },
     "execution_count": 11,
     "metadata": {},
     "output_type": "execute_result"
    }
   ],
   "source": [
    "df_clean = df_clean[['Anno', 'Position', 'id', 'TEAM', 'WIN%', '3PM', '3PA', '3P%', 'FGM', 'FGA', 'FG%', \"AST\", 'BLKA', 'TOV']]\n",
    "df_clean.head()"
   ]
  },
  {
   "cell_type": "code",
   "execution_count": 12,
   "id": "KMdc0PBppZ4t",
   "metadata": {
    "colab": {
     "base_uri": "https://localhost:8080/",
     "height": 773
    },
    "id": "KMdc0PBppZ4t",
    "outputId": "b74056cc-9e59-4d56-ab28-0eeea7114d84"
   },
   "outputs": [
    {
     "name": "stderr",
     "output_type": "stream",
     "text": [
      "C:\\Users\\Loren\\anaconda3\\lib\\site-packages\\scipy\\__init__.py:146: UserWarning: A NumPy version >=1.16.5 and <1.23.0 is required for this version of SciPy (detected version 1.26.0\n",
      "  warnings.warn(f\"A NumPy version >={np_minversion} and <{np_maxversion}\"\n"
     ]
    },
    {
     "data": {
      "image/png": "[encoded data removed]",
      "text/plain": [
       "<Figure size 720x576 with 2 Axes>"
      ]
     },
     "metadata": {
      "needs_background": "light"
     },
     "output_type": "display_data"
    }
   ],
   "source": [
    "import matplotlib.pyplot as plt\n",
    "import seaborn as sns\n",
    "\n",
    "correlation_matrix = df_clean[df_clean['Position'] == 'All'].corr()\n",
    "\n",
    "# Crea un oggetto di figura Matplotlib e una heatmap con Seaborn\n",
    "plt.figure(figsize=(10, 8))  # Specifica le dimensioni del grafico\n",
    "sns.heatmap(correlation_matrix, annot=True, cmap='coolwarm', fmt=\".2f\")\n",
    "\n",
    "# Aggiungi etichette agli assi\n",
    "plt.xlabel(\"Variabili\")\n",
    "plt.ylabel(\"Variabili\")\n",
    "plt.title(\"Heatmap di Correlazione tra le Variabili\")\n",
    "\n",
    "# Mostra il grafico\n",
    "plt.show()"
   ]
  },
  {
   "cell_type": "code",
   "execution_count": null,
   "id": "f356c69d",
   "metadata": {
    "id": "f356c69d"
   },
   "outputs": [],
   "source": []
  },
  {
   "cell_type": "markdown",
   "id": "34ae4f88",
   "metadata": {
    "id": "34ae4f88"
   },
   "source": [
    "### Unique ID Creation"
   ]
  },
  {
   "cell_type": "markdown",
   "id": "3517034b",
   "metadata": {
    "id": "3517034b"
   },
   "source": [
    "Cambiamo la colonna id, invece di un numero prendiamo il nome della squadra e l'anno della regual season, e la posizione. in modo da avere una chiave unica, e che tramite essa si possa ricercare i dati specifici di una squadra in un determinato anno e per uno specifico ruolo."
   ]
  },
  {
   "cell_type": "code",
   "execution_count": 13,
   "id": "199ad15a",
   "metadata": {
    "colab": {
     "base_uri": "https://localhost:8080/",
     "height": 238
    },
    "id": "199ad15a",
    "outputId": "ddda2c40-d059-46c7-c57a-8c67216ef43f"
   },
   "outputs": [
    {
     "data": {
      "text/html": [
       "<div>\n",
       "<style scoped>\n",
       "    .dataframe tbody tr th:only-of-type {\n",
       "        vertical-align: middle;\n",
       "    }\n",
       "\n",
       "    .dataframe tbody tr th {\n",
       "        vertical-align: top;\n",
       "    }\n",
       "\n",
       "    .dataframe thead th {\n",
       "        text-align: right;\n",
       "    }\n",
       "</style>\n",
       "<table border=\"1\" class=\"dataframe\">\n",
       "  <thead>\n",
       "    <tr style=\"text-align: right;\">\n",
       "      <th></th>\n",
       "      <th>Anno</th>\n",
       "      <th>Position</th>\n",
       "      <th>id</th>\n",
       "      <th>TEAM</th>\n",
       "      <th>WIN%</th>\n",
       "      <th>3PM</th>\n",
       "      <th>3PA</th>\n",
       "      <th>3P%</th>\n",
       "      <th>FGM</th>\n",
       "      <th>FGA</th>\n",
       "      <th>FG%</th>\n",
       "      <th>AST</th>\n",
       "      <th>BLKA</th>\n",
       "      <th>TOV</th>\n",
       "    </tr>\n",
       "    <tr>\n",
       "      <th>ID</th>\n",
       "      <th></th>\n",
       "      <th></th>\n",
       "      <th></th>\n",
       "      <th></th>\n",
       "      <th></th>\n",
       "      <th></th>\n",
       "      <th></th>\n",
       "      <th></th>\n",
       "      <th></th>\n",
       "      <th></th>\n",
       "      <th></th>\n",
       "      <th></th>\n",
       "      <th></th>\n",
       "      <th></th>\n",
       "    </tr>\n",
       "  </thead>\n",
       "  <tbody>\n",
       "    <tr>\n",
       "      <th>23-24_Boston Celtics_All</th>\n",
       "      <td>2023-24</td>\n",
       "      <td>All</td>\n",
       "      <td>1</td>\n",
       "      <td>Boston Celtics</td>\n",
       "      <td>1.0</td>\n",
       "      <td>16.8</td>\n",
       "      <td>41.5</td>\n",
       "      <td>40.4</td>\n",
       "      <td>46.8</td>\n",
       "      <td>92.3</td>\n",
       "      <td>50.7</td>\n",
       "      <td>24.0</td>\n",
       "      <td>4.0</td>\n",
       "      <td>14.8</td>\n",
       "    </tr>\n",
       "    <tr>\n",
       "      <th>23-24_Dallas Mavericks_All</th>\n",
       "      <td>2023-24</td>\n",
       "      <td>All</td>\n",
       "      <td>1</td>\n",
       "      <td>Dallas Mavericks</td>\n",
       "      <td>1.0</td>\n",
       "      <td>18.3</td>\n",
       "      <td>44.5</td>\n",
       "      <td>41.0</td>\n",
       "      <td>42.5</td>\n",
       "      <td>88.8</td>\n",
       "      <td>47.9</td>\n",
       "      <td>22.8</td>\n",
       "      <td>4.0</td>\n",
       "      <td>12.8</td>\n",
       "    </tr>\n",
       "    <tr>\n",
       "      <th>23-24_Denver Nuggets_All</th>\n",
       "      <td>2023-24</td>\n",
       "      <td>All</td>\n",
       "      <td>3</td>\n",
       "      <td>Denver Nuggets</td>\n",
       "      <td>0.8</td>\n",
       "      <td>10.8</td>\n",
       "      <td>31.8</td>\n",
       "      <td>34.0</td>\n",
       "      <td>45.4</td>\n",
       "      <td>89.4</td>\n",
       "      <td>50.8</td>\n",
       "      <td>29.0</td>\n",
       "      <td>4.4</td>\n",
       "      <td>14.6</td>\n",
       "    </tr>\n",
       "    <tr>\n",
       "      <th>23-24_Golden State Warriors_All</th>\n",
       "      <td>2023-24</td>\n",
       "      <td>All</td>\n",
       "      <td>3</td>\n",
       "      <td>Golden State Warriors</td>\n",
       "      <td>0.8</td>\n",
       "      <td>13.6</td>\n",
       "      <td>38.4</td>\n",
       "      <td>35.4</td>\n",
       "      <td>41.8</td>\n",
       "      <td>89.6</td>\n",
       "      <td>46.7</td>\n",
       "      <td>27.6</td>\n",
       "      <td>4.2</td>\n",
       "      <td>15.4</td>\n",
       "    </tr>\n",
       "    <tr>\n",
       "      <th>23-24_New Orleans Pelicans_All</th>\n",
       "      <td>2023-24</td>\n",
       "      <td>All</td>\n",
       "      <td>3</td>\n",
       "      <td>New Orleans Pelicans</td>\n",
       "      <td>0.8</td>\n",
       "      <td>12.0</td>\n",
       "      <td>35.6</td>\n",
       "      <td>33.7</td>\n",
       "      <td>39.4</td>\n",
       "      <td>89.4</td>\n",
       "      <td>44.1</td>\n",
       "      <td>23.0</td>\n",
       "      <td>5.4</td>\n",
       "      <td>13.6</td>\n",
       "    </tr>\n",
       "  </tbody>\n",
       "</table>\n",
       "</div>"
      ],
      "text/plain": [
       "                                    Anno Position  id                   TEAM  \\\n",
       "ID                                                                             \n",
       "23-24_Boston Celtics_All         2023-24      All   1         Boston Celtics   \n",
       "23-24_Dallas Mavericks_All       2023-24      All   1       Dallas Mavericks   \n",
       "23-24_Denver Nuggets_All         2023-24      All   3         Denver Nuggets   \n",
       "23-24_Golden State Warriors_All  2023-24      All   3  Golden State Warriors   \n",
       "23-24_New Orleans Pelicans_All   2023-24      All   3   New Orleans Pelicans   \n",
       "\n",
       "                                 WIN%   3PM   3PA   3P%   FGM   FGA   FG%  \\\n",
       "ID                                                                          \n",
       "23-24_Boston Celtics_All          1.0  16.8  41.5  40.4  46.8  92.3  50.7   \n",
       "23-24_Dallas Mavericks_All        1.0  18.3  44.5  41.0  42.5  88.8  47.9   \n",
       "23-24_Denver Nuggets_All          0.8  10.8  31.8  34.0  45.4  89.4  50.8   \n",
       "23-24_Golden State Warriors_All   0.8  13.6  38.4  35.4  41.8  89.6  46.7   \n",
       "23-24_New Orleans Pelicans_All    0.8  12.0  35.6  33.7  39.4  89.4  44.1   \n",
       "\n",
       "                                  AST  BLKA   TOV  \n",
       "ID                                                 \n",
       "23-24_Boston Celtics_All         24.0   4.0  14.8  \n",
       "23-24_Dallas Mavericks_All       22.8   4.0  12.8  \n",
       "23-24_Denver Nuggets_All         29.0   4.4  14.6  \n",
       "23-24_Golden State Warriors_All  27.6   4.2  15.4  \n",
       "23-24_New Orleans Pelicans_All   23.0   5.4  13.6  "
      ]
     },
     "execution_count": 13,
     "metadata": {},
     "output_type": "execute_result"
    }
   ],
   "source": [
    "# Crea la colonna \"id\" con il formato \"Anno/TEAM\"\n",
    "df_clean['ID'] = df_clean['Anno'].str[-5:] + '_' + df_clean['TEAM'] + '_' + df_clean['Position']\n",
    "\n",
    "\n",
    "#imposto la nuova colonna unica che ho ottenuto ID come l'indice del nostro df\n",
    "df_clean = df_clean.set_index('ID')\n",
    "\n",
    "# Visualizza il DataFrame risultante\n",
    "df_clean.head()"
   ]
  },
  {
   "cell_type": "markdown",
   "id": "5eebe28b",
   "metadata": {
    "id": "5eebe28b"
   },
   "source": [
    "Salviamo 4 subset, ognuno relativo al valore nella colonna position, in modo da facilizzarci le anilisi e la gestione dei dati"
   ]
  },
  {
   "cell_type": "code",
   "execution_count": 14,
   "id": "63574de4",
   "metadata": {
    "id": "63574de4"
   },
   "outputs": [],
   "source": [
    "df_All = df_clean[df_clean['Position'] == 'All']\n",
    "df_F = df_clean[df_clean['Position'] == 'F']\n",
    "df_G = df_clean[df_clean['Position'] == 'G']\n",
    "df_C = df_clean[df_clean['Position'] == 'C']"
   ]
  },
  {
   "cell_type": "markdown",
   "id": "040f8367",
   "metadata": {
    "id": "040f8367"
   },
   "source": [
    "vediamo la descrizione, ovvero qualche ariabile descrittiva per il nostro df riguardante tutte le posizioni"
   ]
  },
  {
   "cell_type": "code",
   "execution_count": 15,
   "id": "a17e59b3",
   "metadata": {
    "colab": {
     "base_uri": "https://localhost:8080/",
     "height": 300
    },
    "id": "a17e59b3",
    "outputId": "680b5b5c-baed-468d-ae0f-29ee20e86a28"
   },
   "outputs": [
    {
     "data": {
      "text/html": [
       "<div>\n",
       "<style scoped>\n",
       "    .dataframe tbody tr th:only-of-type {\n",
       "        vertical-align: middle;\n",
       "    }\n",
       "\n",
       "    .dataframe tbody tr th {\n",
       "        vertical-align: top;\n",
       "    }\n",
       "\n",
       "    .dataframe thead th {\n",
       "        text-align: right;\n",
       "    }\n",
       "</style>\n",
       "<table border=\"1\" class=\"dataframe\">\n",
       "  <thead>\n",
       "    <tr style=\"text-align: right;\">\n",
       "      <th></th>\n",
       "      <th>id</th>\n",
       "      <th>WIN%</th>\n",
       "      <th>3PM</th>\n",
       "      <th>3PA</th>\n",
       "      <th>3P%</th>\n",
       "      <th>FGM</th>\n",
       "      <th>FGA</th>\n",
       "      <th>FG%</th>\n",
       "      <th>AST</th>\n",
       "      <th>BLKA</th>\n",
       "      <th>TOV</th>\n",
       "    </tr>\n",
       "  </thead>\n",
       "  <tbody>\n",
       "    <tr>\n",
       "      <th>count</th>\n",
       "      <td>30.000000</td>\n",
       "      <td>30.000000</td>\n",
       "      <td>30.000000</td>\n",
       "      <td>30.000000</td>\n",
       "      <td>30.000000</td>\n",
       "      <td>30.000000</td>\n",
       "      <td>30.000000</td>\n",
       "      <td>30.000000</td>\n",
       "      <td>30.000000</td>\n",
       "      <td>30.000000</td>\n",
       "      <td>30.000000</td>\n",
       "    </tr>\n",
       "    <tr>\n",
       "      <th>mean</th>\n",
       "      <td>14.000000</td>\n",
       "      <td>0.506633</td>\n",
       "      <td>12.426667</td>\n",
       "      <td>35.140000</td>\n",
       "      <td>35.283333</td>\n",
       "      <td>41.443333</td>\n",
       "      <td>89.563333</td>\n",
       "      <td>46.300000</td>\n",
       "      <td>25.313333</td>\n",
       "      <td>5.216667</td>\n",
       "      <td>14.890000</td>\n",
       "    </tr>\n",
       "    <tr>\n",
       "      <th>std</th>\n",
       "      <td>8.905636</td>\n",
       "      <td>0.231364</td>\n",
       "      <td>2.124883</td>\n",
       "      <td>4.271122</td>\n",
       "      <td>3.604029</td>\n",
       "      <td>2.628843</td>\n",
       "      <td>3.383274</td>\n",
       "      <td>2.776875</td>\n",
       "      <td>2.926423</td>\n",
       "      <td>1.193685</td>\n",
       "      <td>1.598782</td>\n",
       "    </tr>\n",
       "    <tr>\n",
       "      <th>min</th>\n",
       "      <td>1.000000</td>\n",
       "      <td>0.000000</td>\n",
       "      <td>8.800000</td>\n",
       "      <td>29.000000</td>\n",
       "      <td>29.300000</td>\n",
       "      <td>36.400000</td>\n",
       "      <td>82.500000</td>\n",
       "      <td>40.000000</td>\n",
       "      <td>19.400000</td>\n",
       "      <td>3.400000</td>\n",
       "      <td>11.500000</td>\n",
       "    </tr>\n",
       "    <tr>\n",
       "      <th>25%</th>\n",
       "      <td>7.000000</td>\n",
       "      <td>0.349750</td>\n",
       "      <td>11.125000</td>\n",
       "      <td>31.850000</td>\n",
       "      <td>32.475000</td>\n",
       "      <td>39.500000</td>\n",
       "      <td>88.200000</td>\n",
       "      <td>44.600000</td>\n",
       "      <td>23.525000</td>\n",
       "      <td>4.200000</td>\n",
       "      <td>13.700000</td>\n",
       "    </tr>\n",
       "    <tr>\n",
       "      <th>50%</th>\n",
       "      <td>13.000000</td>\n",
       "      <td>0.500000</td>\n",
       "      <td>12.450000</td>\n",
       "      <td>34.600000</td>\n",
       "      <td>35.100000</td>\n",
       "      <td>41.350000</td>\n",
       "      <td>89.500000</td>\n",
       "      <td>46.450000</td>\n",
       "      <td>25.200000</td>\n",
       "      <td>5.200000</td>\n",
       "      <td>14.800000</td>\n",
       "    </tr>\n",
       "    <tr>\n",
       "      <th>75%</th>\n",
       "      <td>21.750000</td>\n",
       "      <td>0.600000</td>\n",
       "      <td>13.550000</td>\n",
       "      <td>37.100000</td>\n",
       "      <td>37.350000</td>\n",
       "      <td>43.275000</td>\n",
       "      <td>90.750000</td>\n",
       "      <td>48.125000</td>\n",
       "      <td>27.600000</td>\n",
       "      <td>6.150000</td>\n",
       "      <td>16.000000</td>\n",
       "    </tr>\n",
       "    <tr>\n",
       "      <th>max</th>\n",
       "      <td>30.000000</td>\n",
       "      <td>1.000000</td>\n",
       "      <td>18.300000</td>\n",
       "      <td>44.500000</td>\n",
       "      <td>42.000000</td>\n",
       "      <td>46.800000</td>\n",
       "      <td>98.500000</td>\n",
       "      <td>50.800000</td>\n",
       "      <td>31.500000</td>\n",
       "      <td>7.500000</td>\n",
       "      <td>18.200000</td>\n",
       "    </tr>\n",
       "  </tbody>\n",
       "</table>\n",
       "</div>"
      ],
      "text/plain": [
       "              id       WIN%        3PM        3PA        3P%        FGM  \\\n",
       "count  30.000000  30.000000  30.000000  30.000000  30.000000  30.000000   \n",
       "mean   14.000000   0.506633  12.426667  35.140000  35.283333  41.443333   \n",
       "std     8.905636   0.231364   2.124883   4.271122   3.604029   2.628843   \n",
       "min     1.000000   0.000000   8.800000  29.000000  29.300000  36.400000   \n",
       "25%     7.000000   0.349750  11.125000  31.850000  32.475000  39.500000   \n",
       "50%    13.000000   0.500000  12.450000  34.600000  35.100000  41.350000   \n",
       "75%    21.750000   0.600000  13.550000  37.100000  37.350000  43.275000   \n",
       "max    30.000000   1.000000  18.300000  44.500000  42.000000  46.800000   \n",
       "\n",
       "             FGA        FG%        AST       BLKA        TOV  \n",
       "count  30.000000  30.000000  30.000000  30.000000  30.000000  \n",
       "mean   89.563333  46.300000  25.313333   5.216667  14.890000  \n",
       "std     3.383274   2.776875   2.926423   1.193685   1.598782  \n",
       "min    82.500000  40.000000  19.400000   3.400000  11.500000  \n",
       "25%    88.200000  44.600000  23.525000   4.200000  13.700000  \n",
       "50%    89.500000  46.450000  25.200000   5.200000  14.800000  \n",
       "75%    90.750000  48.125000  27.600000   6.150000  16.000000  \n",
       "max    98.500000  50.800000  31.500000   7.500000  18.200000  "
      ]
     },
     "execution_count": 15,
     "metadata": {},
     "output_type": "execute_result"
    }
   ],
   "source": [
    "df_All.describe()"
   ]
  },
  {
   "cell_type": "code",
   "execution_count": 16,
   "id": "dbbfc64c",
   "metadata": {
    "colab": {
     "base_uri": "https://localhost:8080/"
    },
    "id": "dbbfc64c",
    "outputId": "903b3901-4f2f-47a5-ed5d-6c22401bb056"
   },
   "outputs": [
    {
     "name": "stdout",
     "output_type": "stream",
     "text": [
      "Anno\n",
      "2023-24    12.426667\n",
      "Name: 3PM, dtype: float64\n"
     ]
    }
   ],
   "source": [
    "print(df_All.groupby('Anno').mean()[\"3PM\"])"
   ]
  },
  {
   "cell_type": "markdown",
   "id": "e04c5185",
   "metadata": {
    "id": "e04c5185"
   },
   "source": [
    "## FEATURES SELECTION"
   ]
  },
  {
   "cell_type": "markdown",
   "id": "e1ad7371",
   "metadata": {
    "id": "e1ad7371"
   },
   "source": [
    "DIMINUIAMO IL NUMERO DI VARIABILE, ELIMINANDO QUELLE SUPERFLUE, ANALIZZIAMO ANCHE LA CORRELAZIONE PER INDIVIDUARE E C'è UN EVENTULE COMPORTAMENTO STRANO"
   ]
  },
  {
   "cell_type": "markdown",
   "id": "41daa6a7",
   "metadata": {
    "id": "41daa6a7"
   },
   "source": [
    "## feature transformation"
   ]
  },
  {
   "cell_type": "code",
   "execution_count": 17,
   "id": "e7d4650d",
   "metadata": {
    "colab": {
     "base_uri": "https://localhost:8080/"
    },
    "id": "e7d4650d",
    "outputId": "44acda88-9d51-4281-b575-001f7fa8a09e"
   },
   "outputs": [
    {
     "data": {
      "text/plain": [
       "Anno         object\n",
       "Position     object\n",
       "id            int64\n",
       "TEAM         object\n",
       "WIN%        float64\n",
       "3PM         float64\n",
       "3PA         float64\n",
       "3P%         float64\n",
       "FGM         float64\n",
       "FGA         float64\n",
       "FG%         float64\n",
       "AST         float64\n",
       "BLKA        float64\n",
       "TOV         float64\n",
       "dtype: object"
      ]
     },
     "execution_count": 17,
     "metadata": {},
     "output_type": "execute_result"
    }
   ],
   "source": [
    "df_clean.dtypes"
   ]
  },
  {
   "cell_type": "code",
   "execution_count": 18,
   "id": "ad4637d8",
   "metadata": {
    "id": "ad4637d8"
   },
   "outputs": [],
   "source": [
    "df_clean[\"Position\"] = df_clean[\"Position\"].astype(\"category\")\n",
    "df_clean[\"TEAM\"] = df_clean[\"TEAM\"].astype(\"category\")"
   ]
  },
  {
   "cell_type": "code",
   "execution_count": 19,
   "id": "ec486c24",
   "metadata": {
    "id": "ec486c24"
   },
   "outputs": [],
   "source": [
    "df_clean['Anno'] = df_clean['Anno'].astype(str)\n",
    "\n",
    "# Estrai l'anno con le ultime due cifre\n",
    "anni = df_clean['Anno'].str.split('-').str[1]\n",
    "\n",
    "# Applica la regola per determinare l'anno corretto\n",
    "df_clean['Anno'] = anni.apply(lambda x: '20' + x if int(x) < 97 else '19' + x)\n",
    "\n",
    "# Converti la colonna 'Anno' in datetime con solo l'anno\n",
    "df_clean['Anno'] = pd.to_datetime(df_clean['Anno'], format='%Y').dt.year\n"
   ]
  },
  {
   "cell_type": "code",
   "execution_count": 20,
   "id": "131962b7",
   "metadata": {
    "colab": {
     "base_uri": "https://localhost:8080/"
    },
    "id": "131962b7",
    "outputId": "fc80462b-61ea-499b-d311-855a660c1cc1"
   },
   "outputs": [
    {
     "data": {
      "text/plain": [
       "array([2024], dtype=int64)"
      ]
     },
     "execution_count": 20,
     "metadata": {},
     "output_type": "execute_result"
    }
   ],
   "source": [
    "df_clean['Anno'].unique()"
   ]
  },
  {
   "cell_type": "code",
   "execution_count": null,
   "id": "ccac49d1",
   "metadata": {
    "colab": {
     "base_uri": "https://localhost:8080/"
    },
    "id": "ccac49d1",
    "outputId": "702be683-f2b8-4732-bb20-559cb30e92a6"
   },
   "outputs": [
    {
     "data": {
      "text/plain": [
       "Anno           int64\n",
       "Position    category\n",
       "id             int64\n",
       "TEAM        category\n",
       "WIN%         float64\n",
       "3PM          float64\n",
       "3PA          float64\n",
       "3P%          float64\n",
       "FGM          float64\n",
       "FGA          float64\n",
       "FG%          float64\n",
       "AST          float64\n",
       "BLKA         float64\n",
       "TOV          float64\n",
       "dtype: object"
      ]
     },
     "execution_count": 46,
     "metadata": {},
     "output_type": "execute_result"
    }
   ],
   "source": [
    "df_clean.dtypes"
   ]
  },
  {
   "cell_type": "code",
   "execution_count": 21,
   "id": "c85ac66d",
   "metadata": {
    "id": "c85ac66d"
   },
   "outputs": [],
   "source": [
    "df_clean.to_csv('nba_stats_clean_2024.csv', index=False)\n"
   ]
  },
  {
   "cell_type": "markdown",
   "id": "4a4cb6d1",
   "metadata": {
    "id": "4a4cb6d1"
   },
   "source": [
    "Adesso terminato il pre processing proseguiamo con le analisi."
   ]
  }
 ],
 "metadata": {
  "colab": {
   "provenance": []
  },
  "kernelspec": {
   "display_name": "Python 3 (ipykernel)",
   "language": "python",
   "name": "python3"
  },
  "language_info": {
   "codemirror_mode": {
    "name": "ipython",
    "version": 3
   },
   "file_extension": ".py",
   "mimetype": "text/x-python",
   "name": "python",
   "nbconvert_exporter": "python",
   "pygments_lexer": "ipython3",
   "version": "3.9.12"
  }
 },
 "nbformat": 4,
 "nbformat_minor": 5
}
