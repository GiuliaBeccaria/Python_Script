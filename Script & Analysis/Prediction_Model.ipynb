{
 "cells": [
  {
   "cell_type": "markdown",
   "id": "2339aabf",
   "metadata": {},
   "source": [
    "## Predictive model"
   ]
  },
  {
   "cell_type": "markdown",
   "id": "6f537ffd",
   "metadata": {},
   "source": [
    "We are in the process of developing and evaluating multiple prediction models to forecast the win percentage of each team for the ongoing season (2023-2024). In our pursuit of identifying the most effective predictive model, we have conducted training and testing procedures on two distinct datasets. The first dataset is comprised solely of variables associated with 3-point statistics, while the second dataset encompasses all the variables we gathered and utilized in our prior analyses. This comprehensive approach is grounded in the understanding that attempting to predict win percentages solely based on 3-point variables might lack meaningful relevance.\n"
   ]
  },
  {
   "cell_type": "markdown",
   "id": "d061d4e2",
   "metadata": {},
   "source": [
    "We started importing usefull libraries"
   ]
  },
  {
   "cell_type": "code",
   "execution_count": 1,
   "id": "4458a7a0",
   "metadata": {},
   "outputs": [],
   "source": [
    "import pandas as pd\n",
    "from sklearn.model_selection import train_test_split\n",
    "from sklearn.linear_model import LinearRegression\n",
    "from sklearn.metrics import mean_squared_error"
   ]
  },
  {
   "cell_type": "code",
   "execution_count": null,
   "id": "9bdb5286",
   "metadata": {},
   "outputs": [],
   "source": [
    "# you need to install the following libraries if you don't already have them installed: \n",
    "# pip install xgboost\n",
    "# pip install prettytable"
   ]
  },
  {
   "cell_type": "code",
   "execution_count": 2,
   "id": "be902921",
   "metadata": {},
   "outputs": [],
   "source": [
    "df = pd.read_csv('nba_stats_clean.csv')"
   ]
  },
  {
   "cell_type": "code",
   "execution_count": 3,
   "id": "c3da2bf2",
   "metadata": {},
   "outputs": [],
   "source": [
    "#we consider all players in our dataset, without conidering the differences in the positions\n",
    "df_All = df[df['Position'] == 'All']"
   ]
  },
  {
   "cell_type": "code",
   "execution_count": 4,
   "id": "16d2454a",
   "metadata": {},
   "outputs": [],
   "source": [
    "X_all =df_All.drop(['WIN%', 'TEAM', 'Position'], axis=1)  \n",
    "#It includes all variables except 'W' as input, and the two non-numeric variables.\n",
    "X_3pt = df_All[['Anno','3PM', '3PA', '3P%']]  \n",
    "# It contains only the variables related to three-point shots as input.\n",
    "y = df_All['WIN%'] \n",
    "# It contains only the response variable that we aim to predict"
   ]
  },
  {
   "cell_type": "markdown",
   "id": "1f9009c6",
   "metadata": {},
   "source": [
    "Let's split our dataframes into training and test sets to train and evaluate our predictive models. We'll do this for both the complete dataframe and the one that includes only variables related to three-point shots.\n"
   ]
  },
  {
   "cell_type": "code",
   "execution_count": 5,
   "id": "a0df9177",
   "metadata": {},
   "outputs": [],
   "source": [
    "X_all_train, X_all_test, y_train, y_test = train_test_split(X_all, y, test_size=0.2, random_state=42)\n",
    "X_3pt_train, X_3pt_test, y_train, y_test = train_test_split(X_3pt, y, test_size=0.2, random_state=42)"
   ]
  },
  {
   "cell_type": "markdown",
   "id": "193e02cd",
   "metadata": {},
   "source": [
    "Let's proceed with calculating various regression algorithms, first on the complete dataframe and then on the one containing only the three-point variables."
   ]
  },
  {
   "cell_type": "code",
   "execution_count": 6,
   "id": "d05e5807",
   "metadata": {},
   "outputs": [
    {
     "data": {
      "image/png": "[encoded data removed]",
      "text/plain": [
       "<Figure size 864x576 with 1 Axes>"
      ]
     },
     "metadata": {
      "needs_background": "light"
     },
     "output_type": "display_data"
    }
   ],
   "source": [
    "from sklearn.ensemble import GradientBoostingRegressor, RandomForestRegressor\n",
    "from sklearn.svm import SVR\n",
    "from sklearn.linear_model import LinearRegression, Lasso\n",
    "from xgboost import XGBRegressor\n",
    "from sklearn.metrics import mean_squared_error\n",
    "import matplotlib.pyplot as plt\n",
    "\n",
    "# let's create a dictionary containing the differents algorithms\n",
    "models = {\n",
    "    'Linear Regression': LinearRegression(),\n",
    "    'Lasso Regression': Lasso(random_state=42),\n",
    "    'Random Forest': RandomForestRegressor(random_state=42),\n",
    "    'Support Vector Machine': SVR(),\n",
    "    'Gradient Boosting': GradientBoostingRegressor(random_state=42),\n",
    "    'XGBoost': XGBRegressor(random_state=42)\n",
    "}\n",
    "\n",
    "# let's train and test each model\n",
    "mse_scores = {}\n",
    "\n",
    "for model_name, model in models.items():\n",
    "    model.fit(X_all_train, y_train)\n",
    "    y_pred = model.predict(X_all_test)\n",
    "    mse = mean_squared_error(y_test, y_pred)\n",
    "    mse_scores[model_name] = mse\n",
    "\n",
    "# plot the results\n",
    "plt.figure(figsize=(12, 8))\n",
    "plt.barh(list(mse_scores.keys()), list(mse_scores.values()), color='skyblue')\n",
    "plt.xlabel('Mean Squared Error')\n",
    "plt.title('Comparison of Performance among Regression Algorithms - All')\n",
    "plt.show()"
   ]
  },
  {
   "cell_type": "code",
   "execution_count": 7,
   "id": "5c1c70f8",
   "metadata": {},
   "outputs": [
    {
     "name": "stdout",
     "output_type": "stream",
     "text": [
      "+------------------------+--------------------+\n",
      "|         Model          | Mean Squared Error |\n",
      "+------------------------+--------------------+\n",
      "|   Linear Regression    |       0.009        |\n",
      "|    Lasso Regression    |       0.024        |\n",
      "|     Random Forest      |        0.01        |\n",
      "| Support Vector Machine |       0.023        |\n",
      "|   Gradient Boosting    |        0.01        |\n",
      "|        XGBoost         |       0.012        |\n",
      "+------------------------+--------------------+\n"
     ]
    }
   ],
   "source": [
    "from prettytable import PrettyTable\n",
    "\n",
    "# Create a table\n",
    "table = PrettyTable()\n",
    "table.field_names = ['Model', 'Mean Squared Error']\n",
    "\n",
    "# Add data to the table with rounded MSE values\n",
    "for model_name, mse in mse_scores.items():\n",
    "    rounded_mse = round(mse, 3)\n",
    "    table.add_row([model_name, rounded_mse])\n",
    "\n",
    "# Print the table\n",
    "print(table)\n",
    "\n"
   ]
  },
  {
   "cell_type": "code",
   "execution_count": 8,
   "id": "2718fab2",
   "metadata": {},
   "outputs": [
    {
     "name": "stdout",
     "output_type": "stream",
     "text": [
      "Model                     Mean Squared Error       \n",
      "--------------------------------------------------\n",
      "Linear Regression         0.009                    \n",
      "Lasso Regression          0.024                    \n",
      "Random Forest             0.01                     \n",
      "Support Vector Machine    0.023                    \n",
      "Gradient Boosting         0.01                     \n",
      "XGBoost                   0.012                    \n"
     ]
    }
   ],
   "source": [
    "# Print the table manually with rounded MSE values\n",
    "print(\"{:<25} {:<25}\".format('Model', 'Mean Squared Error'))\n",
    "print(\"-\" * 50)\n",
    "\n",
    "for model_name, mse in mse_scores.items():\n",
    "    rounded_mse = round(mse, 3)\n",
    "    print(\"{:<25} {:<25}\".format(model_name, rounded_mse))\n"
   ]
  },
  {
   "cell_type": "markdown",
   "id": "4deef107",
   "metadata": {},
   "source": [
    "We observe the output, featuring a histogram illustrating the performance of the tested algorithms, accompanied by two tables detailing the specific Mean Squared Error (MSE) values for each algorithm."
   ]
  },
  {
   "cell_type": "markdown",
   "id": "0ae39517",
   "metadata": {},
   "source": [
    "now we consider the df containing just the variables about the 3 points (X_3pt)"
   ]
  },
  {
   "cell_type": "code",
   "execution_count": 9,
   "id": "2b4b507c",
   "metadata": {},
   "outputs": [
    {
     "data": {
      "image/png": "[encoded data removed]",
      "text/plain": [
       "<Figure size 864x576 with 1 Axes>"
      ]
     },
     "metadata": {
      "needs_background": "light"
     },
     "output_type": "display_data"
    }
   ],
   "source": [
    "from sklearn.ensemble import GradientBoostingRegressor, RandomForestRegressor\n",
    "from sklearn.svm import SVR\n",
    "from sklearn.linear_model import LinearRegression, Lasso\n",
    "from xgboost import XGBRegressor\n",
    "from sklearn.metrics import mean_squared_error\n",
    "import matplotlib.pyplot as plt\n",
    "\n",
    "# let's create a dictionary containing the differents algorithms\n",
    "models = {\n",
    "    'Linear Regression': LinearRegression(),\n",
    "    'Lasso Regression': Lasso(random_state=42),\n",
    "    'Random Forest': RandomForestRegressor(random_state=42),\n",
    "    'Support Vector Machine': SVR(),\n",
    "    'Gradient Boosting': GradientBoostingRegressor(random_state=42),\n",
    "    'XGBoost': XGBRegressor(random_state=42)\n",
    "}\n",
    "\n",
    "# let's train and test each model\n",
    "mse_scores = {}\n",
    "\n",
    "for model_name, model in models.items():\n",
    "    model.fit(X_3pt_train, y_train)\n",
    "    y_pred = model.predict(X_3pt_test)\n",
    "    mse = mean_squared_error(y_test, y_pred)\n",
    "    mse_scores[model_name] = mse\n",
    "\n",
    "# plot the results\n",
    "plt.figure(figsize=(12, 8))\n",
    "plt.barh(list(mse_scores.keys()), list(mse_scores.values()), color='skyblue')\n",
    "plt.xlabel('Mean Squared Error')\n",
    "plt.title('Comparison of Performance among Regression Algorithms - 3pt')\n",
    "plt.show()"
   ]
  },
  {
   "cell_type": "code",
   "execution_count": 10,
   "id": "1ee425ed",
   "metadata": {},
   "outputs": [
    {
     "name": "stdout",
     "output_type": "stream",
     "text": [
      "+------------------------+--------------------+\n",
      "|         Model          | Mean Squared Error |\n",
      "+------------------------+--------------------+\n",
      "|   Linear Regression    |       0.017        |\n",
      "|    Lasso Regression    |       0.024        |\n",
      "|     Random Forest      |       0.021        |\n",
      "| Support Vector Machine |       0.024        |\n",
      "|   Gradient Boosting    |        0.02        |\n",
      "|        XGBoost         |       0.026        |\n",
      "+------------------------+--------------------+\n"
     ]
    }
   ],
   "source": [
    "from prettytable import PrettyTable\n",
    "\n",
    "# Create a table\n",
    "table = PrettyTable()\n",
    "table.field_names = ['Model', 'Mean Squared Error']\n",
    "\n",
    "# Add data to the table with rounded MSE values\n",
    "for model_name, mse in mse_scores.items():\n",
    "    rounded_mse = round(mse, 3)\n",
    "    table.add_row([model_name, rounded_mse])\n",
    "\n",
    "# Print the table\n",
    "print(table)"
   ]
  },
  {
   "cell_type": "code",
   "execution_count": 11,
   "id": "8a1d0677",
   "metadata": {},
   "outputs": [
    {
     "name": "stdout",
     "output_type": "stream",
     "text": [
      "Model                     Mean Squared Error       \n",
      "--------------------------------------------------\n",
      "Linear Regression         0.017                    \n",
      "Lasso Regression          0.024                    \n",
      "Random Forest             0.021                    \n",
      "Support Vector Machine    0.024                    \n",
      "Gradient Boosting         0.02                     \n",
      "XGBoost                   0.026                    \n"
     ]
    }
   ],
   "source": [
    "# Print the table manually with rounded MSE values\n",
    "print(\"{:<25} {:<25}\".format('Model', 'Mean Squared Error'))\n",
    "print(\"-\" * 50)\n",
    "\n",
    "for model_name, mse in mse_scores.items():\n",
    "    rounded_mse = round(mse, 3)\n",
    "    print(\"{:<25} {:<25}\".format(model_name, rounded_mse))\n"
   ]
  },
  {
   "cell_type": "markdown",
   "id": "cdb30d84",
   "metadata": {},
   "source": [
    "As evident from the MSE results tables, linear regression outperforms other algorithms in both cases. Consequently, we have opted to utilize it for predicting the Win percentage for the 2024 season."
   ]
  },
  {
   "cell_type": "markdown",
   "id": "d5d609d1",
   "metadata": {},
   "source": [
    "## 2024 Predictions"
   ]
  },
  {
   "cell_type": "markdown",
   "id": "69a8112d",
   "metadata": {},
   "source": [
    "We aim to predict the win percentage values for each team using both linear regression tested on the entire dataset and linear regression applied exclusively to the dataset filtered for three-point variables. To predict values for the year 2024, we utilized data extracted from the NBA stats website through scraping, encompassing information up until November 3rd. These values were then applied to the predictive model to obtain win percentage estimates. Assuming that the values remain constant from November 3rd until the end of the season, we can predict the final standings."
   ]
  },
  {
   "cell_type": "code",
   "execution_count": 12,
   "id": "c9fd6843",
   "metadata": {},
   "outputs": [],
   "source": [
    "df_23_24 = pd.read_csv('nba_stats_clean_2024.csv') \n",
    "#this is the dataset containg the values obtained throught scraping from the website nba.stats\n",
    "#for the current year until the 3 of november, so we will use the values of the variables until that date for predict \n",
    "#the win percentage at the end of the regular season \n",
    "df_23_24 = df_23_24[df_23_24['Position'] == 'All']\n",
    "#we consider only the values for all positions as we have done during the training the algorithm"
   ]
  },
  {
   "cell_type": "code",
   "execution_count": 13,
   "id": "1b83f6d4",
   "metadata": {},
   "outputs": [],
   "source": [
    "#preparing the new dataframe that we have to use for predicting\n",
    "x_All_2024 = df_23_24.drop(['WIN%', 'TEAM', 'Position', 'id'], axis=1)\n",
    "x_3pt_2024 = df_23_24[['Anno','3PM', '3PA', '3P%']]"
   ]
  },
  {
   "cell_type": "code",
   "execution_count": 14,
   "id": "aca9a158",
   "metadata": {},
   "outputs": [],
   "source": [
    "#We employ linear regression to predict the values, utilizing the dataframe with all variables.\n",
    "linear_model = LinearRegression()\n",
    "linear_model.fit(X_all_train, y_train)\n",
    "y_pred_2024_linear = linear_model.predict(x_All_2024)\n",
    "#We follow the same procedure for the values in the dataframe containing only the three-point variables\n",
    "linear_model3 = LinearRegression()\n",
    "linear_model3.fit(X_3pt_train, y_train)\n",
    "y_pred_2024_linear3 = linear_model3.predict(x_3pt_2024)\n"
   ]
  },
  {
   "cell_type": "code",
   "execution_count": 15,
   "id": "403e10f9",
   "metadata": {},
   "outputs": [
    {
     "data": {
      "text/plain": [
       "array([0.713, 0.775, 0.635, 0.515, 0.368, 0.632, 0.553, 0.685, 0.47 ,\n",
       "       0.5  , 0.372, 0.533, 0.708, 0.518, 0.548, 0.336, 0.46 , 0.252,\n",
       "       0.356, 0.148, 0.489, 0.071, 0.341, 0.392, 0.367, 0.373, 0.453,\n",
       "       0.415, 0.376, 0.199])"
      ]
     },
     "execution_count": 15,
     "metadata": {},
     "output_type": "execute_result"
    }
   ],
   "source": [
    "y_pred_2024_linear.round(3)"
   ]
  },
  {
   "cell_type": "code",
   "execution_count": 16,
   "id": "dc52b75a",
   "metadata": {},
   "outputs": [
    {
     "data": {
      "text/plain": [
       "array([0.833, 0.907, 0.395, 0.487, 0.38 , 0.674, 0.417, 0.863, 0.194,\n",
       "       0.517, 0.273, 0.543, 0.838, 0.246, 0.506, 0.543, 0.4  , 0.195,\n",
       "       0.356, 0.39 , 0.579, 0.161, 0.652, 0.443, 0.608, 0.199, 0.553,\n",
       "       0.248, 0.593, 0.277])"
      ]
     },
     "execution_count": 16,
     "metadata": {},
     "output_type": "execute_result"
    }
   ],
   "source": [
    "y_pred_2024_linear3.round(3)"
   ]
  },
  {
   "cell_type": "code",
   "execution_count": 17,
   "id": "fa7ee239",
   "metadata": {},
   "outputs": [
    {
     "name": "stdout",
     "output_type": "stream",
     "text": [
      "Results for all variables:\n",
      "      Actual  Predicted\n",
      "731    0.512   0.520726\n",
      "1103   0.329   0.484820\n",
      "617    0.476   0.500255\n",
      "2050   0.537   0.537181\n",
      "2064   0.329   0.580072\n",
      "...      ...        ...\n",
      "1441   0.707   0.685948\n",
      "1344   0.333   0.293569\n",
      "1695   0.476   0.576496\n",
      "2977   0.744   0.697063\n",
      "2043   0.634   0.663593\n",
      "\n",
      "[161 rows x 2 columns]\n",
      "\n",
      "Results for three-point variables:\n",
      "      Actual  Predicted\n",
      "731    0.512   0.555315\n",
      "1103   0.329   0.595688\n",
      "617    0.476   0.579111\n",
      "2050   0.537   0.479905\n",
      "2064   0.329   0.572068\n",
      "...      ...        ...\n",
      "1441   0.707   0.539897\n",
      "1344   0.333   0.342780\n",
      "1695   0.476   0.462631\n",
      "2977   0.744   0.514325\n",
      "2043   0.634   0.470471\n",
      "\n",
      "[161 rows x 2 columns]\n"
     ]
    }
   ],
   "source": [
    "import pandas as pd\n",
    "\n",
    "# Create a DataFrame with the results of linear regression for all variables.\n",
    "results_all = pd.DataFrame({'Actual': y_test, 'Predicted': linear_model.predict(X_all_test)})\n",
    "\n",
    "# Create a DataFrame with the results of linear regression for three-point variables\n",
    "results_3pt = pd.DataFrame({'Actual': y_test, 'Predicted': linear_model3.predict(X_3pt_test)})\n",
    "\n",
    "# You can now print or visualize the results\n",
    "print(\"Results for all variables:\")\n",
    "print(results_all)\n",
    "\n",
    "print(\"\\nResults for three-point variables:\")\n",
    "print(results_3pt)\n"
   ]
  },
  {
   "cell_type": "markdown",
   "id": "0da67dee",
   "metadata": {},
   "source": [
    "We are currently generating a dataframe containing the predicted values derived from our models and the corresponding variables for the year 2024, which were used in the prediction process."
   ]
  },
  {
   "cell_type": "code",
   "execution_count": 18,
   "id": "f9d97683",
   "metadata": {},
   "outputs": [
    {
     "name": "stdout",
     "output_type": "stream",
     "text": [
      "    y_pred_all_2024  y_pred_3pt_2024  Anno Position  id  \\\n",
      "0             0.713            0.833  2024      All   1   \n",
      "1             0.775            0.907  2024      All   1   \n",
      "2             0.635            0.395  2024      All   3   \n",
      "3             0.515            0.487  2024      All   3   \n",
      "4             0.368            0.380  2024      All   3   \n",
      "5             0.632            0.674  2024      All   6   \n",
      "6             0.553            0.417  2024      All   7   \n",
      "7             0.685            0.863  2024      All   7   \n",
      "8             0.470            0.194  2024      All   7   \n",
      "9             0.500            0.517  2024      All   7   \n",
      "10            0.372            0.273  2024      All   7   \n",
      "11            0.533            0.543  2024      All   7   \n",
      "12            0.708            0.838  2024      All  13   \n",
      "13            0.518            0.246  2024      All  13   \n",
      "14            0.548            0.506  2024      All  13   \n",
      "15            0.336            0.543  2024      All  13   \n",
      "16            0.460            0.400  2024      All  13   \n",
      "17            0.252            0.195  2024      All  18   \n",
      "18            0.356            0.356  2024      All  18   \n",
      "19            0.148            0.390  2024      All  18   \n",
      "20            0.489            0.579  2024      All  18   \n",
      "21            0.071            0.161  2024      All  18   \n",
      "22            0.341            0.652  2024      All  23   \n",
      "23            0.392            0.443  2024      All  23   \n",
      "24            0.367            0.608  2024      All  23   \n",
      "25            0.373            0.199  2024      All  26   \n",
      "26            0.453            0.553  2024      All  26   \n",
      "27            0.415            0.248  2024      All  26   \n",
      "28            0.376            0.593  2024      All  29   \n",
      "29            0.199            0.277  2024      All  30   \n",
      "\n",
      "                      TEAM   WIN%   3PM   3PA   3P%   FGM   FGA   FG%   AST  \\\n",
      "0           Boston Celtics  1.000  16.8  41.5  40.4  46.8  92.3  50.7  24.0   \n",
      "1         Dallas Mavericks  1.000  18.3  44.5  41.0  42.5  88.8  47.9  22.8   \n",
      "2           Denver Nuggets  0.800  10.8  31.8  34.0  45.4  89.4  50.8  29.0   \n",
      "3    Golden State Warriors  0.800  13.6  38.4  35.4  41.8  89.6  46.7  27.6   \n",
      "4     New Orleans Pelicans  0.800  12.0  35.6  33.7  39.4  89.4  44.1  23.0   \n",
      "5       Philadelphia 76ers  0.750  11.5  29.0  39.7  41.5  85.0  48.8  24.8   \n",
      "6            Atlanta Hawks  0.600  11.0  32.0  34.4  44.4  90.2  49.2  27.6   \n",
      "7              LA Clippers  0.600  14.8  35.2  42.0  45.2  89.2  50.7  25.4   \n",
      "8       Los Angeles Lakers  0.600   9.8  32.4  30.2  41.6  88.2  47.2  26.0   \n",
      "9    Oklahoma City Thunder  0.600  11.6  32.0  36.3  40.8  86.0  47.4  23.6   \n",
      "10           Orlando Magic  0.600   9.8  31.0  31.6  38.6  85.2  45.3  23.8   \n",
      "11       San Antonio Spurs  0.600  13.4  36.8  36.4  43.2  90.6  47.7  29.6   \n",
      "12           Brooklyn Nets  0.500  14.5  34.8  41.7  43.3  86.3  50.1  28.0   \n",
      "13          Indiana Pacers  0.500  13.0  41.0  31.7  46.5  98.5  47.2  31.5   \n",
      "14         Milwaukee Bucks  0.500  13.0  36.3  35.9  39.8  82.5  48.2  21.3   \n",
      "15  Minnesota Timberwolves  0.500  11.0  29.8  37.0  40.0  89.8  44.6  23.5   \n",
      "16        Sacramento Kings  0.500  14.8  43.5  33.9  43.3  97.0  44.6  26.8   \n",
      "17           Chicago Bulls  0.400   9.6  31.8  30.2  39.4  92.4  42.6  19.6   \n",
      "18     Cleveland Cavaliers  0.400  12.6  37.8  33.3  38.6  90.4  42.7  23.0   \n",
      "19         New York Knicks  0.400  12.6  37.2  33.9  36.4  91.0  40.0  21.8   \n",
      "20            Phoenix Suns  0.400  12.8  34.4  37.2  41.2  84.8  48.6  25.0   \n",
      "21  Portland Trail Blazers  0.400   8.8  30.0  29.3  38.2  88.2  43.3  19.4   \n",
      "22         Detroit Pistons  0.333  12.0  30.8  38.9  41.0  90.2  45.5  28.3   \n",
      "23         Toronto Raptors  0.333  11.5  33.0  34.8  40.0  87.5  45.7  27.3   \n",
      "24               Utah Jazz  0.333  13.7  36.5  37.4  42.2  92.0  45.8  27.8   \n",
      "25       Charlotte Hornets  0.250   9.3  30.8  30.1  42.0  90.0  46.7  27.0   \n",
      "26         Houston Rockets  0.250  12.5  34.0  36.8  40.5  88.3  45.9  26.5   \n",
      "27      Washington Wizards  0.250  11.5  36.5  31.5  43.5  94.3  46.2  27.8   \n",
      "28              Miami Heat  0.200  12.4  33.0  37.6  38.0  89.0  42.7  23.8   \n",
      "29       Memphis Grizzlies  0.000  13.8  42.8  32.2  38.2  90.8  42.1  23.8   \n",
      "\n",
      "    BLKA   TOV  \n",
      "0    4.0  14.8  \n",
      "1    4.0  12.8  \n",
      "2    4.4  14.6  \n",
      "3    4.2  15.4  \n",
      "4    5.4  13.6  \n",
      "5    5.3  14.0  \n",
      "6    4.0  15.0  \n",
      "7    5.2  15.8  \n",
      "8    4.0  14.0  \n",
      "9    5.2  14.8  \n",
      "10   5.0  14.8  \n",
      "11   4.2  16.4  \n",
      "12   4.5  16.5  \n",
      "13   5.8  11.5  \n",
      "14   3.5  16.0  \n",
      "15   7.3  14.5  \n",
      "16   3.8  12.8  \n",
      "17   3.4  12.8  \n",
      "18   4.8  12.8  \n",
      "19   6.6  14.8  \n",
      "20   6.4  17.4  \n",
      "21   7.4  16.6  \n",
      "22   6.5  18.2  \n",
      "23   5.5  16.5  \n",
      "24   7.5  16.8  \n",
      "25   4.3  15.8  \n",
      "26   6.0  15.3  \n",
      "27   6.3  13.0  \n",
      "28   6.2  13.4  \n",
      "29   5.8  16.0  \n"
     ]
    }
   ],
   "source": [
    "y_pred_all_2024_rounded = pd.Series(y_pred_2024_linear.round(3), name='y_pred_all_2024')\n",
    "y_pred_3pt_2024_rounded = pd.Series(y_pred_2024_linear3.round(3), name='y_pred_3pt_2024')\n",
    "\n",
    "df_combined = pd.concat([y_pred_all_2024_rounded, y_pred_3pt_2024_rounded, df_23_24], axis=1)\n",
    "\n",
    "print(df_combined)"
   ]
  },
  {
   "cell_type": "markdown",
   "id": "998984ba",
   "metadata": {},
   "source": [
    "Now, we print the predicted NBA standings at the end of the season from our two models, including the associated win percentages."
   ]
  },
  {
   "cell_type": "code",
   "execution_count": 19,
   "id": "e9284c33",
   "metadata": {},
   "outputs": [
    {
     "name": "stdout",
     "output_type": "stream",
     "text": [
      "Predictions 2024:\n",
      "    y_pred_all_2024                    TEAM\n",
      "1             0.775        Dallas Mavericks\n",
      "0             0.713          Boston Celtics\n",
      "12            0.708           Brooklyn Nets\n",
      "7             0.685             LA Clippers\n",
      "2             0.635          Denver Nuggets\n",
      "5             0.632      Philadelphia 76ers\n",
      "6             0.553           Atlanta Hawks\n",
      "14            0.548         Milwaukee Bucks\n",
      "11            0.533       San Antonio Spurs\n",
      "13            0.518          Indiana Pacers\n",
      "3             0.515   Golden State Warriors\n",
      "9             0.500   Oklahoma City Thunder\n",
      "20            0.489            Phoenix Suns\n",
      "8             0.470      Los Angeles Lakers\n",
      "16            0.460        Sacramento Kings\n",
      "26            0.453         Houston Rockets\n",
      "27            0.415      Washington Wizards\n",
      "23            0.392         Toronto Raptors\n",
      "28            0.376              Miami Heat\n",
      "25            0.373       Charlotte Hornets\n",
      "10            0.372           Orlando Magic\n",
      "4             0.368    New Orleans Pelicans\n",
      "24            0.367               Utah Jazz\n",
      "18            0.356     Cleveland Cavaliers\n",
      "22            0.341         Detroit Pistons\n",
      "15            0.336  Minnesota Timberwolves\n",
      "17            0.252           Chicago Bulls\n",
      "29            0.199       Memphis Grizzlies\n",
      "19            0.148         New York Knicks\n",
      "21            0.071  Portland Trail Blazers\n",
      "\n",
      "Predictions 2024 - 3 points stats:\n",
      "    y_pred_3pt_2024                    TEAM\n",
      "1             0.907        Dallas Mavericks\n",
      "7             0.863             LA Clippers\n",
      "12            0.838           Brooklyn Nets\n",
      "0             0.833          Boston Celtics\n",
      "5             0.674      Philadelphia 76ers\n",
      "22            0.652         Detroit Pistons\n",
      "24            0.608               Utah Jazz\n",
      "28            0.593              Miami Heat\n",
      "20            0.579            Phoenix Suns\n",
      "26            0.553         Houston Rockets\n",
      "11            0.543       San Antonio Spurs\n",
      "15            0.543  Minnesota Timberwolves\n",
      "9             0.517   Oklahoma City Thunder\n",
      "14            0.506         Milwaukee Bucks\n",
      "3             0.487   Golden State Warriors\n",
      "23            0.443         Toronto Raptors\n",
      "6             0.417           Atlanta Hawks\n",
      "16            0.400        Sacramento Kings\n",
      "2             0.395          Denver Nuggets\n",
      "19            0.390         New York Knicks\n",
      "4             0.380    New Orleans Pelicans\n",
      "18            0.356     Cleveland Cavaliers\n",
      "29            0.277       Memphis Grizzlies\n",
      "10            0.273           Orlando Magic\n",
      "27            0.248      Washington Wizards\n",
      "13            0.246          Indiana Pacers\n",
      "25            0.199       Charlotte Hornets\n",
      "17            0.195           Chicago Bulls\n",
      "8             0.194      Los Angeles Lakers\n",
      "21            0.161  Portland Trail Blazers\n"
     ]
    }
   ],
   "source": [
    "# Creare un DataFrame contenente solo le colonne necessarie per le predizioni del 2024\n",
    "df_pred_all_2024 = df_combined[['y_pred_all_2024', 'TEAM']].sort_values(by='y_pred_all_2024', ascending=False)\n",
    "\n",
    "# Creare un DataFrame contenente solo le colonne necessarie per le predizioni dei 3 punti del 2024\n",
    "df_pred_3pt_2024 = df_combined[['y_pred_3pt_2024', 'TEAM']].sort_values(by='y_pred_3pt_2024', ascending=False)\n",
    "\n",
    "# Visualizzare i DataFrame risultanti\n",
    "print(\"Predictions 2024:\")\n",
    "print(df_pred_all_2024)\n",
    "\n",
    "print(\"\\nPredictions 2024 - 3 points stats:\")\n",
    "print(df_pred_3pt_2024)\n"
   ]
  },
  {
   "cell_type": "markdown",
   "id": "faf366e1",
   "metadata": {},
   "source": [
    "The results differ between the two models, as expected, and are intriguing. However, it's important to note that these predictions are significantly distorted since they are based on statistics derived from only the first 5-6 games of the regular season."
   ]
  },
  {
   "cell_type": "code",
   "execution_count": null,
   "id": "8ba9dd42",
   "metadata": {},
   "outputs": [],
   "source": []
  },
  {
   "cell_type": "code",
   "execution_count": null,
   "id": "797e354e",
   "metadata": {},
   "outputs": [],
   "source": []
  }
 ],
 "metadata": {
  "kernelspec": {
   "display_name": "Python 3 (ipykernel)",
   "language": "python",
   "name": "python3"
  },
  "language_info": {
   "codemirror_mode": {
    "name": "ipython",
    "version": 3
   },
   "file_extension": ".py",
   "mimetype": "text/x-python",
   "name": "python",
   "nbconvert_exporter": "python",
   "pygments_lexer": "ipython3",
   "version": "3.9.12"
  }
 },
 "nbformat": 4,
 "nbformat_minor": 5
}
